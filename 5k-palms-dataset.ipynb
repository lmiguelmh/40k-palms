{
 "cells": [
  {
   "cell_type": "markdown",
   "metadata": {},
   "source": [
    "### 5k-Palms Dataset Exploratory Analysis\n",
    "Este dataset fue construido seleccionando las imágenes de palmas del dataset 11k-hands. Luego, se trabajaron estas imágenes a fin de encontrar las máscaras respectivas, este proceso fue semi-automatizado y manual."
   ]
  },
  {
   "cell_type": "code",
   "execution_count": 1,
   "metadata": {},
   "outputs": [],
   "source": [
    "img_dir = \"/Datasets/5k-palms/5k-palms/\"\n",
    "label_dir = \"/Datasets/5k-palms/5k-palms-masks/\""
   ]
  },
  {
   "cell_type": "code",
   "execution_count": 2,
   "metadata": {},
   "outputs": [
    {
     "name": "stdout",
     "output_type": "stream",
     "text": [
      "['/Datasets/5k-palms/5k-palms/Hand_0000038.jpg', '/Datasets/5k-palms/5k-palms/Hand_0000039.jpg', '/Datasets/5k-palms/5k-palms/Hand_0000040.jpg']\n",
      "['/Datasets/5k-palms/5k-palms-masks/Hand_0000038.jpg.png', '/Datasets/5k-palms/5k-palms-masks/Hand_0000039.jpg.png', '/Datasets/5k-palms/5k-palms-masks/Hand_0000040.jpg.png']\n"
     ]
    }
   ],
   "source": [
    "import os\n",
    "img_files = [img_dir + f for f in os.listdir(img_dir)]\n",
    "label_files = [label_dir + f for f in os.listdir(label_dir)]\n",
    "img_files.sort()\n",
    "label_files.sort()\n",
    "\n",
    "print(img_files[:3])\n",
    "print(label_files[:3])"
   ]
  },
  {
   "cell_type": "code",
   "execution_count": 4,
   "metadata": {},
   "outputs": [],
   "source": [
    "from sklearn.model_selection import train_test_split\n",
    "x_train_filenames, x_val_filenames, y_train_filenames, y_val_filenames = train_test_split(img_files, label_files, test_size=0.2, random_state=7)"
   ]
  },
  {
   "cell_type": "code",
   "execution_count": 5,
   "metadata": {},
   "outputs": [
    {
     "name": "stdout",
     "output_type": "stream",
     "text": [
      "Number of training examples: 4310\n",
      "Number of validation examples: 1078\n"
     ]
    }
   ],
   "source": [
    "num_train_examples = len(x_train_filenames)\n",
    "num_val_examples = len(x_val_filenames)\n",
    "\n",
    "print(\"Number of training examples: {}\".format(num_train_examples))\n",
    "print(\"Number of validation examples: {}\".format(num_val_examples))"
   ]
  },
  {
   "cell_type": "code",
   "execution_count": 6,
   "metadata": {},
   "outputs": [
    {
     "data": {
      "text/plain": [
       "['/Datasets/5k-palms/5k-palms/Hand_0010317.jpg',\n",
       " '/Datasets/5k-palms/5k-palms/Hand_0001066.jpg',\n",
       " '/Datasets/5k-palms/5k-palms/Hand_0009833.jpg',\n",
       " '/Datasets/5k-palms/5k-palms/Hand_0004251.jpg',\n",
       " '/Datasets/5k-palms/5k-palms/Hand_0010450.jpg']"
      ]
     },
     "execution_count": 6,
     "metadata": {},
     "output_type": "execute_result"
    }
   ],
   "source": [
    "x_train_filenames[:5]"
   ]
  },
  {
   "cell_type": "markdown",
   "metadata": {},
   "source": [
    "#### Visualizing Dataset"
   ]
  },
  {
   "cell_type": "code",
   "execution_count": 7,
   "metadata": {},
   "outputs": [],
   "source": [
    "import matplotlib.pyplot as plt\n",
    "import matplotlib.image as image\n",
    "import numpy as np\n",
    "\n",
    "%matplotlib inline"
   ]
  },
  {
   "cell_type": "code",
   "execution_count": 9,
   "metadata": {},
   "outputs": [
    {
     "name": "stdout",
     "output_type": "stream",
     "text": [
      "Collecting Pillow\n",
      "\u001b[?25l  Downloading https://files.pythonhosted.org/packages/8b/e9/5c47710fe383f0582da668302a80a6355fe15c2ce2dde89b50fe34acefa6/Pillow-5.4.1-cp35-cp35m-manylinux1_x86_64.whl (2.0MB)\n",
      "\u001b[K    100% |████████████████████████████████| 2.0MB 1.3MB/s ta 0:00:01\n",
      "\u001b[?25hInstalling collected packages: Pillow\n",
      "Successfully installed Pillow-5.4.1\n",
      "\u001b[33mYou are using pip version 18.0, however version 19.0.3 is available.\n",
      "You should consider upgrading via the 'pip install --upgrade pip' command.\u001b[0m\n"
     ]
    }
   ],
   "source": [
    "# for reading jpg images\n",
    "!pip install Pillow"
   ]
  },
  {
   "cell_type": "code",
   "execution_count": null,
   "metadata": {},
   "outputs": [],
   "source": [
    "display_num = 5\n",
    "\n",
    "np.random.seed(3737)\n",
    "r_choices = np.random.choice(num_train_examples, display_num)\n",
    "\n",
    "plt.figure(figsize=(10, 15))\n",
    "for i in range(0, display_num * 2, 2):\n",
    "    img_num = r_choices[i // 2]\n",
    "    x_pathname = x_train_filenames[img_num]\n",
    "    y_pathname = y_train_filenames[img_num]\n",
    "\n",
    "    plt.subplot(display_num, 2, i + 1)\n",
    "    plt.imshow(image.imread(x_pathname))\n",
    "    plt.title(\"Original Image\")\n",
    "    plt.xticks([])\n",
    "    plt.yticks([])\n",
    "\n",
    "    plt.subplot(display_num, 2, i + 2)\n",
    "    plt.imshow(image.imread(y_pathname), cmap='gray')\n",
    "    plt.title(\"Masked Image\")  \n",
    "    plt.xticks([])\n",
    "    plt.yticks([])\n",
    "\n",
    "plt.show()"
   ]
  },
  {
   "cell_type": "code",
   "execution_count": null,
   "metadata": {},
   "outputs": [],
   "source": []
  }
 ],
 "metadata": {
  "kernelspec": {
   "display_name": "Python 3",
   "language": "python",
   "name": "python3"
  },
  "language_info": {
   "codemirror_mode": {
    "name": "ipython",
    "version": 3
   },
   "file_extension": ".py",
   "mimetype": "text/x-python",
   "name": "python",
   "nbconvert_exporter": "python",
   "pygments_lexer": "ipython3",
   "version": "3.5.2"
  }
 },
 "nbformat": 4,
 "nbformat_minor": 2
}
