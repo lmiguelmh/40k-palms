{
 "cells": [
  {
   "cell_type": "code",
   "execution_count": 2,
   "metadata": {},
   "outputs": [
    {
     "name": "stdout",
     "output_type": "stream",
     "text": [
      "Collecting Pillow\n",
      "\u001b[?25l  Downloading https://files.pythonhosted.org/packages/de/62/6358ccd27b9e340affaa29e3e678b5d93a4b17f6bd7533fd6e6e87930b12/Pillow-6.0.0-cp35-cp35m-manylinux1_x86_64.whl (2.0MB)\n",
      "\u001b[K    100% |████████████████████████████████| 2.0MB 1.3MB/s ta 0:00:011\n",
      "\u001b[?25hInstalling collected packages: Pillow\n",
      "Successfully installed Pillow-6.0.0\n",
      "\u001b[33mYou are using pip version 18.0, however version 19.0.3 is available.\n",
      "You should consider upgrading via the 'pip install --upgrade pip' command.\u001b[0m\n"
     ]
    }
   ],
   "source": [
    "!pip install Pillow"
   ]
  },
  {
   "cell_type": "code",
   "execution_count": 1,
   "metadata": {},
   "outputs": [],
   "source": [
    "%matplotlib inline\n",
    "import tensorflow as tf\n",
    "from matplotlib.image import imread \n",
    "import matplotlib.pyplot as plt\n",
    "\n",
    "import os\n",
    "import glob\n",
    "import zipfile\n",
    "import functools\n",
    "\n",
    "import numpy as np\n",
    "import matplotlib.pyplot as plt\n",
    "import matplotlib as mpl\n",
    "mpl.rcParams['axes.grid'] = False\n",
    "mpl.rcParams['figure.figsize'] = (12,12)\n",
    "\n",
    "from sklearn.model_selection import train_test_split\n",
    "import matplotlib.image as mpimg\n",
    "import pandas as pd\n",
    "from PIL import Image\n",
    "\n",
    "import tensorflow as tf\n",
    "import tensorflow.contrib as tfcontrib\n",
    "from tensorflow.python.keras import layers\n",
    "from tensorflow.python.keras import losses\n",
    "from tensorflow.python.keras import models\n",
    "from tensorflow.python.keras import backend as K"
   ]
  },
  {
   "cell_type": "code",
   "execution_count": 6,
   "metadata": {},
   "outputs": [
    {
     "name": "stdout",
     "output_type": "stream",
     "text": [
      "1.10.0\n"
     ]
    }
   ],
   "source": [
    "print(tf.__version__)"
   ]
  },
  {
   "cell_type": "code",
   "execution_count": 3,
   "metadata": {},
   "outputs": [
    {
     "name": "stdout",
     "output_type": "stream",
     "text": [
      "see the server console: 600/800/3\n"
     ]
    }
   ],
   "source": [
    "img_str = tf.read_file(\"/Datasets/5k-palms/40k-jpg/Hand_0011744.jpg.0.jpg\")\n",
    "img = tf.image.decode_jpeg(img_str, channels=3)\n",
    "img = tf.Print(img, [tf.shape(img)], message=\"img: \")\n",
    "\n",
    "img = tf.image.rgb_to_grayscale(img)\n",
    "img = tf.Print(img, [tf.shape(img)], message=\"img-gray: \")\n",
    "\n",
    "sess = tf.Session() \n",
    "sess.run(tf.global_variables_initializer())\n",
    "res = sess.run(img)\n",
    "\n",
    "print(\"see the server console: 600/800/3\")  "
   ]
  },
  {
   "cell_type": "code",
   "execution_count": 7,
   "metadata": {},
   "outputs": [
    {
     "name": "stdout",
     "output_type": "stream",
     "text": [
      "see the server console\n"
     ]
    }
   ],
   "source": [
    "img_str = tf.read_file(\"/Datasets/5k-palms/40k-masks-mono/Hand_0011744.jpg.0.png\")\n",
    "img = tf.image.decode_png(img_str, channels=1)\n",
    "img = tf.Print(img, [tf.shape(img)], message=\"img: \")\n",
    "\n",
    "sess = tf.Session() \n",
    "sess.run(tf.global_variables_initializer())\n",
    "res = sess.run(img)\n",
    "\n",
    "print(\"see the server console: 600/800/1\")"
   ]
  },
  {
   "cell_type": "code",
   "execution_count": 15,
   "metadata": {
    "scrolled": false
   },
   "outputs": [
    {
     "name": "stderr",
     "output_type": "stream",
     "text": [
      "Clipping input data to the valid range for imshow with RGB data ([0..1] for floats or [0..255] for integers).\n"
     ]
    },
    {
     "data": {
      "image/png": "[encoded data removed]",
      "text/plain": [
       "<Figure size 864x864 with 1 Axes>"
      ]
     },
     "metadata": {
      "needs_background": "light"
     },
     "output_type": "display_data"
    }
   ],
   "source": [
    "img_file = \"/Datasets/5k-palms/40k-jpg/Hand_0011744.jpg.0.jpg\"\n",
    "mask_file = \"/Datasets/5k-palms/40k-masks-mono/Hand_0011744.jpg.0.png\"\n",
    "\n",
    "# Loading test image from the local filesystem \n",
    "x = tf.Variable(imread(img_file),dtype=\"float32\")\n",
    "x = tf.Print(x, [tf.shape(x)], message=\"x: \")\n",
    "\n",
    "x_mask = tf.Variable(imread(mask_file),dtype='float32')\n",
    "x_mask = tf.Print(x_mask, [tf.shape(x_mask)], message=\"x_mask: \")\n",
    "\n",
    "x_mask = tf.expand_dims(x_mask, axis=-1)  # 600x800 -> 600x800x1 \n",
    "x_mask = tf.Print(x_mask, [tf.shape(x_mask)], message=\"x_mask: \")\n",
    "\n",
    "img_mult = tf.multiply(x,x_mask)\n",
    "\n",
    "# plt.imshow(imread(img_file))\n",
    "# plt.show()\n",
    "# plt.imshow(imread(mask_file))\n",
    "# plt.show()\n",
    "\n",
    "sess = tf.Session() \n",
    "sess.run(tf.global_variables_initializer())\n",
    "res = sess.run(img_mult)\n",
    "\n",
    "plt.imshow(res)\n",
    "plt.show()"
   ]
  },
  {
   "cell_type": "code",
   "execution_count": null,
   "metadata": {},
   "outputs": [],
   "source": []
  },
  {
   "cell_type": "code",
   "execution_count": null,
   "metadata": {},
   "outputs": [],
   "source": []
  },
  {
   "cell_type": "code",
   "execution_count": null,
   "metadata": {},
   "outputs": [],
   "source": []
  }
 ],
 "metadata": {
  "kernelspec": {
   "display_name": "Python 3",
   "language": "python",
   "name": "python3"
  },
  "language_info": {
   "codemirror_mode": {
    "name": "ipython",
    "version": 3
   },
   "file_extension": ".py",
   "mimetype": "text/x-python",
   "name": "python",
   "nbconvert_exporter": "python",
   "pygments_lexer": "ipython3",
   "version": "3.5.2"
  }
 },
 "nbformat": 4,
 "nbformat_minor": 2
}
